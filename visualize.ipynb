{
 "cells": [
  {
   "cell_type": "markdown",
   "id": "22a94e42",
   "metadata": {},
   "source": [
    "## Part 1: Monolingual embeddings"
   ]
  },
  {
   "cell_type": "code",
   "execution_count": 39,
   "id": "7a6ed09f",
   "metadata": {},
   "outputs": [],
   "source": [
    "import embedding\n",
    "import similarity\n",
    "import visualize\n",
    "from matplotlib import pyplot as plt\n",
    "import numpy as np\n",
    "from sklearn.decomposition import PCA"
   ]
  },
  {
   "cell_type": "code",
   "execution_count": 2,
   "id": "efe72282",
   "metadata": {},
   "outputs": [],
   "source": [
    "# Functions for embedding visualization\n",
    "def word2array(words, word_list, array):\n",
    "    fp = open(\"test.txt\", \"w\", encoding=\"utf-8\")\n",
    "    out = np.zeros((len(words), 300))\n",
    "    for (i, word) in enumerate(words):\n",
    "        try:\n",
    "            row = word_list.index(word)\n",
    "            out[i,:] = array[row,:]\n",
    "        except:\n",
    "            print(word, \"is not in list\")\n",
    "    fp.close()\n",
    "    return out\n",
    "\n",
    "def perform_pca(array, n_components):\n",
    "    # For the purposes of this lab, n_components will always be 2.\n",
    "    pca = PCA(n_components=n_components)\n",
    "    pc = pca.fit_transform(array)\n",
    "    return pc\n",
    "\n",
    "def plot(pca_first, pca_second, filename='plot.png'):\n",
    "    fig = plt.figure(figsize = (8,8))\n",
    "    ax = fig.add_subplot(1,1,1)\n",
    "    ax.scatter(pca_first[:,0], pca_first[:,1], c='r', s=50)\n",
    "    ax.scatter(pca_second[:,0], pca_second[:,1], c='b', s=50)\n",
    "    plt.title(\"sino(red) vs western(blue) origin\")"
   ]
  },
  {
   "cell_type": "code",
   "execution_count": 19,
   "id": "a13ffa94",
   "metadata": {},
   "outputs": [],
   "source": [
    "# Chinese data\n",
    "word_list = embedding.load_word_list(\"data/zh.300.txt\")\n",
    "vectors = embedding.load_vectors_array(\"data/zh.300.npy\")"
   ]
  },
  {
   "cell_type": "code",
   "execution_count": 18,
   "id": "57d2518b",
   "metadata": {},
   "outputs": [
    {
     "ename": "MemoryError",
     "evalue": "Unable to allocate 4.47 GiB for an array with shape (600000000,) and data type float64",
     "output_type": "error",
     "traceback": [
      "\u001b[1;31m---------------------------------------------------------------------------\u001b[0m",
      "\u001b[1;31mMemoryError\u001b[0m                               Traceback (most recent call last)",
      "\u001b[1;32m<ipython-input-18-f51f1e873d8a>\u001b[0m in \u001b[0;36m<module>\u001b[1;34m\u001b[0m\n\u001b[0;32m      1\u001b[0m \u001b[1;31m# Japanese data\u001b[0m\u001b[1;33m\u001b[0m\u001b[1;33m\u001b[0m\u001b[1;33m\u001b[0m\u001b[0m\n\u001b[0;32m      2\u001b[0m \u001b[0mja_word_list\u001b[0m \u001b[1;33m=\u001b[0m \u001b[0membedding\u001b[0m\u001b[1;33m.\u001b[0m\u001b[0mload_word_list\u001b[0m\u001b[1;33m(\u001b[0m\u001b[1;34m\"data/ja.300.txt\"\u001b[0m\u001b[1;33m)\u001b[0m\u001b[1;33m\u001b[0m\u001b[1;33m\u001b[0m\u001b[0m\n\u001b[1;32m----> 3\u001b[1;33m \u001b[0mja_vectors\u001b[0m \u001b[1;33m=\u001b[0m \u001b[0membedding\u001b[0m\u001b[1;33m.\u001b[0m\u001b[0mload_vectors_array\u001b[0m\u001b[1;33m(\u001b[0m\u001b[1;34m\"data/ja.300.npy\"\u001b[0m\u001b[1;33m)\u001b[0m\u001b[1;33m\u001b[0m\u001b[1;33m\u001b[0m\u001b[0m\n\u001b[0m",
      "\u001b[1;32m~\\Downloads\\Spring 2022\\CS159 Natural Language Processing\\Final Project\\cjk_word_embeddings\\embedding.py\u001b[0m in \u001b[0;36mload_vectors_array\u001b[1;34m(filename)\u001b[0m\n\u001b[0;32m     48\u001b[0m \u001b[1;32mdef\u001b[0m \u001b[0mload_vectors_array\u001b[0m\u001b[1;33m(\u001b[0m\u001b[0mfilename\u001b[0m\u001b[1;33m)\u001b[0m\u001b[1;33m:\u001b[0m\u001b[1;33m\u001b[0m\u001b[1;33m\u001b[0m\u001b[0m\n\u001b[0;32m     49\u001b[0m     \u001b[0mfp\u001b[0m \u001b[1;33m=\u001b[0m \u001b[0mopen\u001b[0m\u001b[1;33m(\u001b[0m\u001b[0mfilename\u001b[0m\u001b[1;33m,\u001b[0m \u001b[1;34m\"rb\"\u001b[0m\u001b[1;33m)\u001b[0m\u001b[1;33m\u001b[0m\u001b[1;33m\u001b[0m\u001b[0m\n\u001b[1;32m---> 50\u001b[1;33m     \u001b[0marray\u001b[0m \u001b[1;33m=\u001b[0m \u001b[0mnumpy\u001b[0m\u001b[1;33m.\u001b[0m\u001b[0mload\u001b[0m\u001b[1;33m(\u001b[0m\u001b[0mfp\u001b[0m\u001b[1;33m,\u001b[0m \u001b[0mallow_pickle\u001b[0m\u001b[1;33m=\u001b[0m\u001b[1;32mTrue\u001b[0m\u001b[1;33m)\u001b[0m\u001b[1;33m\u001b[0m\u001b[1;33m\u001b[0m\u001b[0m\n\u001b[0m\u001b[0;32m     51\u001b[0m     \u001b[1;32mreturn\u001b[0m \u001b[0marray\u001b[0m\u001b[1;33m\u001b[0m\u001b[1;33m\u001b[0m\u001b[0m\n\u001b[0;32m     52\u001b[0m \u001b[1;33m\u001b[0m\u001b[0m\n",
      "\u001b[1;32m~\\anaconda3\\lib\\site-packages\\numpy\\lib\\npyio.py\u001b[0m in \u001b[0;36mload\u001b[1;34m(file, mmap_mode, allow_pickle, fix_imports, encoding)\u001b[0m\n\u001b[0;32m    437\u001b[0m                 \u001b[1;32mreturn\u001b[0m \u001b[0mformat\u001b[0m\u001b[1;33m.\u001b[0m\u001b[0mopen_memmap\u001b[0m\u001b[1;33m(\u001b[0m\u001b[0mfile\u001b[0m\u001b[1;33m,\u001b[0m \u001b[0mmode\u001b[0m\u001b[1;33m=\u001b[0m\u001b[0mmmap_mode\u001b[0m\u001b[1;33m)\u001b[0m\u001b[1;33m\u001b[0m\u001b[1;33m\u001b[0m\u001b[0m\n\u001b[0;32m    438\u001b[0m             \u001b[1;32melse\u001b[0m\u001b[1;33m:\u001b[0m\u001b[1;33m\u001b[0m\u001b[1;33m\u001b[0m\u001b[0m\n\u001b[1;32m--> 439\u001b[1;33m                 return format.read_array(fid, allow_pickle=allow_pickle,\n\u001b[0m\u001b[0;32m    440\u001b[0m                                          pickle_kwargs=pickle_kwargs)\n\u001b[0;32m    441\u001b[0m         \u001b[1;32melse\u001b[0m\u001b[1;33m:\u001b[0m\u001b[1;33m\u001b[0m\u001b[1;33m\u001b[0m\u001b[0m\n",
      "\u001b[1;32m~\\anaconda3\\lib\\site-packages\\numpy\\lib\\format.py\u001b[0m in \u001b[0;36mread_array\u001b[1;34m(fp, allow_pickle, pickle_kwargs)\u001b[0m\n\u001b[0;32m    739\u001b[0m         \u001b[1;32mif\u001b[0m \u001b[0misfileobj\u001b[0m\u001b[1;33m(\u001b[0m\u001b[0mfp\u001b[0m\u001b[1;33m)\u001b[0m\u001b[1;33m:\u001b[0m\u001b[1;33m\u001b[0m\u001b[1;33m\u001b[0m\u001b[0m\n\u001b[0;32m    740\u001b[0m             \u001b[1;31m# We can use the fast fromfile() function.\u001b[0m\u001b[1;33m\u001b[0m\u001b[1;33m\u001b[0m\u001b[1;33m\u001b[0m\u001b[0m\n\u001b[1;32m--> 741\u001b[1;33m             \u001b[0marray\u001b[0m \u001b[1;33m=\u001b[0m \u001b[0mnumpy\u001b[0m\u001b[1;33m.\u001b[0m\u001b[0mfromfile\u001b[0m\u001b[1;33m(\u001b[0m\u001b[0mfp\u001b[0m\u001b[1;33m,\u001b[0m \u001b[0mdtype\u001b[0m\u001b[1;33m=\u001b[0m\u001b[0mdtype\u001b[0m\u001b[1;33m,\u001b[0m \u001b[0mcount\u001b[0m\u001b[1;33m=\u001b[0m\u001b[0mcount\u001b[0m\u001b[1;33m)\u001b[0m\u001b[1;33m\u001b[0m\u001b[1;33m\u001b[0m\u001b[0m\n\u001b[0m\u001b[0;32m    742\u001b[0m         \u001b[1;32melse\u001b[0m\u001b[1;33m:\u001b[0m\u001b[1;33m\u001b[0m\u001b[1;33m\u001b[0m\u001b[0m\n\u001b[0;32m    743\u001b[0m             \u001b[1;31m# This is not a real file. We have to read it the\u001b[0m\u001b[1;33m\u001b[0m\u001b[1;33m\u001b[0m\u001b[1;33m\u001b[0m\u001b[0m\n",
      "\u001b[1;31mMemoryError\u001b[0m: Unable to allocate 4.47 GiB for an array with shape (600000000,) and data type float64"
     ]
    }
   ],
   "source": [
    "# Japanese data\n",
    "ja_word_list = embedding.load_word_list(\"data/ja.300.txt\")\n",
    "ja_vectors = embedding.load_vectors_array(\"data/ja.300.npy\")"
   ]
  },
  {
   "cell_type": "code",
   "execution_count": 14,
   "id": "595d734e",
   "metadata": {},
   "outputs": [],
   "source": [
    "zh_fp1 = open(\"ch_chinese.txt\", \"r\", encoding=\"utf-8\")\n",
    "zh_fp2 = open(\"ch_loanwords.txt\", \"r\", encoding=\"utf-8\")\n",
    "zh_first_words = zh_fp1.read().split()\n",
    "zh_second_words = zh_fp2.read().split()"
   ]
  },
  {
   "cell_type": "code",
   "execution_count": 15,
   "id": "6fcfbb4a",
   "metadata": {},
   "outputs": [
    {
     "data": {
      "image/png": "[encoded data removed]",
      "text/plain": [
       "<Figure size 576x576 with 1 Axes>"
      ]
     },
     "metadata": {
      "needs_background": "light"
     },
     "output_type": "display_data"
    }
   ],
   "source": [
    "# Plotting Chinese Words\n",
    "zh_first_vec = word2array(zh_first_words, word_list, vectors)\n",
    "zh_second_vec = word2array(zh_second_words, word_list, vectors)\n",
    "zh_first_pca = perform_pca(zh_first_vec, 2)\n",
    "zh_second_pca = perform_pca(zh_second_vec, 2)\n",
    "plot(zh_first_pca, zh_second_pca)"
   ]
  },
  {
   "cell_type": "code",
   "execution_count": 16,
   "id": "882af11d",
   "metadata": {},
   "outputs": [],
   "source": [
    "# Japanese data\n",
    "ja_fp1 = open(\"ja_chinese.txt\", \"r\", encoding=\"utf-8\")\n",
    "ja_fp2 = open(\"ja_loanwords.txt\", \"r\", encoding=\"utf-8\")\n",
    "ja_first_words = ja_fp1.read().split()\n",
    "ja_second_words = ja_fp2.read().split()"
   ]
  },
  {
   "cell_type": "code",
   "execution_count": 17,
   "id": "12db8855",
   "metadata": {},
   "outputs": [
    {
     "data": {
      "image/png": "[encoded data removed]",
      "text/plain": [
       "<Figure size 576x576 with 1 Axes>"
      ]
     },
     "metadata": {
      "needs_background": "light"
     },
     "output_type": "display_data"
    }
   ],
   "source": [
    "# Plotting Chinese Words\n",
    "ja_first_vec = word2array(ja_first_words, ja_word_list, ja_vectors)\n",
    "ja_second_vec = word2array(ja_second_words, ja_word_list, ja_vectors)\n",
    "ja_first_pca = perform_pca(ja_first_vec, 2)\n",
    "ja_second_pca = perform_pca(ja_second_vec, 2)\n",
    "plot(ja_first_pca, ja_second_pca)"
   ]
  },
  {
   "cell_type": "code",
   "execution_count": 23,
   "id": "35f6a420",
   "metadata": {},
   "outputs": [
    {
     "data": {
      "image/png": "[encoded data removed]",
      "text/plain": [
       "<Figure size 576x576 with 1 Axes>"
      ]
     },
     "metadata": {
      "needs_background": "light"
     },
     "output_type": "display_data"
    }
   ],
   "source": [
    "# Plotting words pairwise\n",
    "fig = plt.figure(figsize = (8,8))\n",
    "ax = fig.add_subplot(1,1,1)\n",
    "ax.scatter(zh_first_pca[:,0], zh_first_pca[:,1], c='k', s=50)\n",
    "ax.scatter(zh_second_pca[:,0], zh_second_pca[:,1], c='m', s=50)\n",
    "ax.scatter(ja_first_pca[:,0], ja_first_pca[:,1], c='c', s=50)\n",
    "ax.scatter(ja_second_pca[:,0], ja_second_pca[:,1], c='b', s=50)\n",
    "for i in range(len(zh_first_pca)):\n",
    "    (x1,y1) = zh_first_pca[i]\n",
    "    (x2,y2) = ja_first_pca[i]\n",
    "    ax.plot((x1, x2), (y1, y2), linewidth=1, color=\"lightgray\")\n",
    "for i in range(len(zh_second_pca)):\n",
    "    (x1,y1) = zh_second_pca[i]\n",
    "    (x2,y2) = ja_second_pca[i]\n",
    "    ax.plot((x1, x2), (y1, y2), linewidth=1, color=\"pink\")"
   ]
  },
  {
   "cell_type": "code",
   "execution_count": null,
   "id": "13c0c309",
   "metadata": {},
   "outputs": [],
   "source": [
    "# Compare w/ neighbors"
   ]
  },
  {
   "cell_type": "markdown",
   "id": "bd0e57f0",
   "metadata": {},
   "source": [
    "## Part 2: Aligned Vectors"
   ]
  },
  {
   "cell_type": "code",
   "execution_count": 6,
   "id": "09ee286d",
   "metadata": {},
   "outputs": [],
   "source": [
    "# Chinese aligned data\n",
    "chinese_aligned_word_list = embedding.load_word_list(\"data/zh.align.txt\")\n",
    "chinese_aligned_vectors = embedding.load_vectors_array(\"data/zh.align.npy\")"
   ]
  },
  {
   "cell_type": "code",
   "execution_count": 7,
   "id": "2f264e67",
   "metadata": {},
   "outputs": [
    {
     "data": {
      "text/plain": [
       "(332647, 300)"
      ]
     },
     "execution_count": 7,
     "metadata": {},
     "output_type": "execute_result"
    }
   ],
   "source": [
    "len(chinese_aligned_word_list)\n",
    "chinese_aligned_vectors.shape"
   ]
  },
  {
   "cell_type": "code",
   "execution_count": 8,
   "id": "0bd4445e",
   "metadata": {},
   "outputs": [],
   "source": [
    "# Korean aligned data\n",
    "korean_aligned_word_list = embedding.load_word_list(\"data/ko.align.txt\")\n",
    "korean_aligned_vectors = embedding.load_vectors_array(\"data/ko.align.npy\")"
   ]
  },
  {
   "cell_type": "code",
   "execution_count": 10,
   "id": "8fbc7fd0",
   "metadata": {},
   "outputs": [
    {
     "data": {
      "text/plain": [
       "(879129, 300)"
      ]
     },
     "execution_count": 10,
     "metadata": {},
     "output_type": "execute_result"
    }
   ],
   "source": [
    "len(korean_aligned_word_list)\n",
    "korean_aligned_vectors.shape"
   ]
  },
  {
   "cell_type": "code",
   "execution_count": 11,
   "id": "aaabaa77",
   "metadata": {},
   "outputs": [],
   "source": [
    "# cutting off the lowest 25%\n",
    "chinese_aligned_word_list = chinese_aligned_word_list[:int(0.75 * len(chinese_aligned_word_list))]\n",
    "chinese_aligned_vectors = chinese_aligned_vectors[:int(0.75 * chinese_aligned_vectors.shape[0]),:]\n",
    "korean_aligned_word_list = korean_aligned_word_list[:int(0.75 * len(korean_aligned_word_list))]\n",
    "korean_aligned_vectors = korean_aligned_vectors[:int(0.75 * korean_aligned_vectors.shape[0]),:]"
   ]
  },
  {
   "cell_type": "code",
   "execution_count": 12,
   "id": "684fc19d",
   "metadata": {},
   "outputs": [
    {
     "name": "stdout",
     "output_type": "stream",
     "text": [
      "249476\n",
      "(249485, 300)\n",
      "659341\n",
      "(659346, 300)\n"
     ]
    }
   ],
   "source": [
    "print(len(chinese_aligned_word_list))\n",
    "print(chinese_aligned_vectors.shape)\n",
    "print(len(korean_aligned_word_list))\n",
    "print(korean_aligned_vectors.shape)"
   ]
  },
  {
   "cell_type": "code",
   "execution_count": 13,
   "id": "dbf713f9",
   "metadata": {},
   "outputs": [],
   "source": [
    "def top_n_neighbors(word, word_list, vectors, n):\n",
    "    vec = embedding.get_vec(word, word_list, vectors)\n",
    "    pairs = similarity.closest_vectors(vec, word_list, vectors, n)\n",
    "    return pairs"
   ]
  },
  {
   "cell_type": "code",
   "execution_count": 27,
   "id": "e01636e2",
   "metadata": {},
   "outputs": [
    {
     "data": {
      "text/plain": [
       "[(1.0000000000000007, '三月'),\n",
       " (0.8287541132353583, '恒'),\n",
       " (0.7687692872201648, 'は'),\n",
       " (0.7472630527867824, '明白'),\n",
       " (0.7393927177109828, 'ft'),\n",
       " (0.7267216327886463, '合浦'),\n",
       " (0.7198535253243099, '殲'),\n",
       " (0.7084211920171769, '傳道'),\n",
       " (0.7079370467133892, 'defends'),\n",
       " (0.6894874732581726, '狼藉')]"
      ]
     },
     "execution_count": 27,
     "metadata": {},
     "output_type": "execute_result"
    }
   ],
   "source": [
    "top_n_neighbors('三月', chinese_aligned_word_list, chinese_aligned_vectors, 10)"
   ]
  },
  {
   "cell_type": "markdown",
   "id": "26db02c2",
   "metadata": {},
   "source": [
    "## Visualization: Word-Pair Relations"
   ]
  },
  {
   "cell_type": "code",
   "execution_count": 62,
   "id": "e1211c62",
   "metadata": {},
   "outputs": [],
   "source": [
    "def extract_words(left_vectors, right_vectors, left_word_list, right_word_list, relations):\n",
    "    n = len(relations)\n",
    "    rel = []\n",
    "    for i in range(n):\n",
    "        if relations[i][0] in left_word_list and relations[i][1] in right_word_list:\n",
    "            rel.append(relations[i])\n",
    "    m = len(rel)\n",
    "    vec0 = np.zeros((m, vectors.shape[1]))\n",
    "    vec1 = np.zeros((m, vectors.shape[1]))\n",
    "    for i in range(m):\n",
    "        vec0[i,:] = embedding.get_vec(rel[i][0], left_word_list, left_vectors)\n",
    "        vec1[i,:] = embedding.get_vec(rel[i][1], right_word_list, right_vectors)\n",
    "    return vec0, vec1, rel\n",
    "\n",
    "def plot_relations(pca_first, pca_second, pca_relations, filename='plot.png'):\n",
    "    fig = plt.figure(figsize = (8,8))\n",
    "    ax = fig.add_subplot(1,1,1)\n",
    "    ax.scatter(pca_first[:,0], pca_first[:,1], c='r', s=50)\n",
    "    ax.scatter(pca_second[:,0], pca_second[:,1], c='b', s=50)\n",
    "    for i in range(len(pca_first)):\n",
    "        (x,y) = pca_first[i]\n",
    "        plt.annotate(pca_relations[i][0], xy=(x,y), color=\"black\")\n",
    "        (x,y) = pca_second[i]\n",
    "        plt.annotate(pca_relations[i][1], xy=(x,y), color=\"black\")\n",
    "    for i in range(len(pca_first)):\n",
    "        (x1,y1) = pca_first[i]\n",
    "        (x2,y2) = pca_second[i]\n",
    "        ax.plot((x1, x2), (y1, y2), linewidth=1, color=\"lightgray\")\n",
    "    plt.savefig(filename)"
   ]
  },
  {
   "cell_type": "code",
   "execution_count": 60,
   "id": "79331232",
   "metadata": {},
   "outputs": [],
   "source": [
    "relations_fp = open(\"translations.txt\", \"r\", encoding=\"utf-8\")\n",
    "relations = visualize.read_relations(relations_fp)\n",
    "relations_fp.close()\n",
    "chinese_vec, korean_vec, rel = extract_words(chinese_aligned_vectors, korean_aligned_vectors, chinese_aligned_word_list, korean_aligned_word_list, relations)\n",
    "array = np.vstack((chinese_vec, korean_vec))\n",
    "pca_vectors = perform_pca(array, 2)\n",
    "pca_first = pca_vectors[:len(rel)]\n",
    "pca_second = pca_vectors[len(rel):]"
   ]
  },
  {
   "cell_type": "code",
   "execution_count": 63,
   "id": "353dfadd",
   "metadata": {},
   "outputs": [],
   "source": [
    "plot_relations(pca_first, pca_second, rel)"
   ]
  },
  {
   "cell_type": "code",
   "execution_count": 41,
   "id": "4e7d4d27",
   "metadata": {},
   "outputs": [],
   "source": [
    "relations_fp.close()"
   ]
  },
  {
   "cell_type": "code",
   "execution_count": null,
   "id": "f648855d",
   "metadata": {},
   "outputs": [],
   "source": []
  },
  {
   "cell_type": "code",
   "execution_count": null,
   "id": "62bed13f",
   "metadata": {},
   "outputs": [],
   "source": []
  },
  {
   "cell_type": "code",
   "execution_count": null,
   "id": "03bba247",
   "metadata": {},
   "outputs": [],
   "source": []
  },
  {
   "cell_type": "code",
   "execution_count": null,
   "id": "cbfd0a02",
   "metadata": {},
   "outputs": [],
   "source": []
  }
 ],
 "metadata": {
  "kernelspec": {
   "display_name": "Python 3",
   "language": "python",
   "name": "python3"
  },
  "language_info": {
   "codemirror_mode": {
    "name": "ipython",
    "version": 3
   },
   "file_extension": ".py",
   "mimetype": "text/x-python",
   "name": "python",
   "nbconvert_exporter": "python",
   "pygments_lexer": "ipython3",
   "version": "3.8.8"
  }
 },
 "nbformat": 4,
 "nbformat_minor": 5
}
