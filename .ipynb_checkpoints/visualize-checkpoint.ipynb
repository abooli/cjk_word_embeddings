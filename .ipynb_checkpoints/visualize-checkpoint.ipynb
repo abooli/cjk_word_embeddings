{
 "cells": [
  {
   "cell_type": "code",
   "execution_count": null,
   "id": "d6a1b27d",
   "metadata": {},
   "outputs": [],
   "source": [
    "import gzip\n",
    "import numpy as np"
   ]
  },
  {
   "cell_type": "code",
   "execution_count": null,
   "id": "a8ab1d79",
   "metadata": {},
   "outputs": [],
   "source": [
    "def load_text_vectors(fp):\n",
    "    fp.seek(0)\n",
    "    rowcount = 0\n",
    "    words = []\n",
    "    for _ in fp:\n",
    "        rowcount += 1\n",
    "    vectors = numpy.zeros((rowcount, 50))\n",
    "    fp.seek(0)\n",
    "    i = 0\n",
    "    for v in fp:\n",
    "        s = v.split()\n",
    "        words.append(s[0])\n",
    "        vectors[i,:] = numpy.array(s[1:])\n",
    "        i += 1\n",
    "    return words, vectors"
   ]
  }
 ],
 "metadata": {
  "kernelspec": {
   "display_name": "Python 3",
   "language": "python",
   "name": "python3"
  }
 },
 "nbformat": 4,
 "nbformat_minor": 5
}
